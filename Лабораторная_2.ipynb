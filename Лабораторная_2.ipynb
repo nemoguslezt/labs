{
  "nbformat": 4,
  "nbformat_minor": 0,
  "metadata": {
    "colab": {
      "provenance": []
    },
    "kernelspec": {
      "name": "python3",
      "display_name": "Python 3"
    },
    "language_info": {
      "name": "python"
    }
  },
  "cells": [
    {
      "cell_type": "code",
      "execution_count": null,
      "metadata": {
        "id": "r8UVLkAx9oqC"
      },
      "outputs": [],
      "source": [
        "import pandas as pd\n",
        "import numpy as np\n",
        "import matplotlib.pyplot as plt\n",
        "from sklearn.model_selection import train_test_split\n",
        "from sklearn.discriminant_analysis import QuadraticDiscriminantAnalysis\n",
        "from sklearn.metrics import accuracy_score\n"
      ]
    },
    {
      "cell_type": "code",
      "source": [
        "df = pd.read_csv('/content/UltimateClassicRock.csv')\n",
        "print(df.head())"
      ],
      "metadata": {
        "colab": {
          "base_uri": "https://localhost:8080/"
        },
        "id": "Osmto8VpKJLO",
        "outputId": "9f8337fb-c3d3-4f62-aed6-659a21936953"
      },
      "execution_count": null,
      "outputs": [
        {
          "output_type": "stream",
          "name": "stdout",
          "text": [
            "                    Track      Artist       Album  Year Duration  \\\n",
            "0      Play A Simple Song  38 Special  38 Special  1977     3:13   \n",
            "1             Four Wheels  38 Special  38 Special  1977     4:43   \n",
            "2                Fly Away  38 Special  38 Special  1977     5:13   \n",
            "3          Tell Everybody  38 Special  38 Special  1977     4:09   \n",
            "4  Just Wanna Rock & Roll  38 Special  38 Special  1977     5:57   \n",
            "\n",
            "   Time_Signature  Danceability  Energy  Key  Loudness  Mode  Speechiness  \\\n",
            "0               4         0.521   0.367    0   -13.866     1       0.0278   \n",
            "1               4         0.535   0.710    2   -12.287     1       0.0428   \n",
            "2               4         0.563   0.563    2   -10.781     1       0.0263   \n",
            "3               4         0.638   0.694   11   -10.206     0       0.0310   \n",
            "4               4         0.388   0.701    2    -9.984     1       0.0360   \n",
            "\n",
            "   Acousticness  Instrumentalness  Liveness  Valence    Tempo  Popularity  \n",
            "0        0.6920          0.000003    0.1080    0.789   83.412          16  \n",
            "1        0.0100          0.023000    0.0495    0.445  160.361          10  \n",
            "2        0.0357          0.001850    0.1400    0.564  106.739          13  \n",
            "3        0.1610          0.000034    0.0908    0.936  124.962          10  \n",
            "4        0.0130          0.042200    0.1150    0.769  126.769          11  \n"
          ]
        }
      ]
    },
    {
      "cell_type": "code",
      "source": [
        "print(df.info())\n",
        "\n",
        "# Статистика по числовым столбцам\n",
        "print(df.describe())"
      ],
      "metadata": {
        "colab": {
          "base_uri": "https://localhost:8080/"
        },
        "id": "5fTgS0poXE7-",
        "outputId": "01597004-128d-4cd8-ee29-1ccb34ab9b59"
      },
      "execution_count": null,
      "outputs": [
        {
          "output_type": "stream",
          "name": "stdout",
          "text": [
            "<class 'pandas.core.frame.DataFrame'>\n",
            "RangeIndex: 14418 entries, 0 to 14417\n",
            "Data columns (total 18 columns):\n",
            " #   Column            Non-Null Count  Dtype  \n",
            "---  ------            --------------  -----  \n",
            " 0   Track             14418 non-null  object \n",
            " 1   Artist            14418 non-null  object \n",
            " 2   Album             14418 non-null  object \n",
            " 3   Year              14418 non-null  int64  \n",
            " 4   Duration          14418 non-null  object \n",
            " 5   Time_Signature    14418 non-null  int64  \n",
            " 6   Danceability      14418 non-null  float64\n",
            " 7   Energy            14418 non-null  float64\n",
            " 8   Key               14418 non-null  int64  \n",
            " 9   Loudness          14418 non-null  float64\n",
            " 10  Mode              14418 non-null  int64  \n",
            " 11  Speechiness       14418 non-null  float64\n",
            " 12  Acousticness      14418 non-null  float64\n",
            " 13  Instrumentalness  14418 non-null  float64\n",
            " 14  Liveness          14418 non-null  float64\n",
            " 15  Valence           14418 non-null  float64\n",
            " 16  Tempo             14418 non-null  float64\n",
            " 17  Popularity        14418 non-null  int64  \n",
            "dtypes: float64(9), int64(5), object(4)\n",
            "memory usage: 2.0+ MB\n",
            "None\n",
            "               Year  Time_Signature  Danceability        Energy           Key  \\\n",
            "count  14418.000000    14418.000000  14418.000000  14418.000000  14418.000000   \n",
            "mean    1987.634693        3.917811      0.503063      0.656563      5.166597   \n",
            "std       15.318819        0.356628      0.142619      0.229607      3.503423   \n",
            "min     1962.000000        0.000000      0.000000      0.000000      0.000000   \n",
            "25%     1975.000000        4.000000      0.405000      0.493000      2.000000   \n",
            "50%     1983.000000        4.000000      0.509000      0.690500      5.000000   \n",
            "75%     1999.000000        4.000000      0.603000      0.854000      9.000000   \n",
            "max     2024.000000        5.000000      0.987000      0.998000     11.000000   \n",
            "\n",
            "           Loudness          Mode   Speechiness  Acousticness  \\\n",
            "count  14418.000000  14418.000000  14418.000000  14418.000000   \n",
            "mean      -9.438675      0.730129      0.051354      0.226924   \n",
            "std        4.179623      0.443908      0.046291      0.268857   \n",
            "min      -60.000000      0.000000      0.000000      0.000000   \n",
            "25%      -11.914250      0.000000      0.031800      0.013100   \n",
            "50%       -8.810500      1.000000      0.039000      0.104000   \n",
            "75%       -6.341500      1.000000      0.054300      0.370000   \n",
            "max       -0.203000      1.000000      0.952000      0.995000   \n",
            "\n",
            "       Instrumentalness      Liveness       Valence         Tempo  \\\n",
            "count      14418.000000  14418.000000  14418.000000  14418.000000   \n",
            "mean           0.089682      0.210653      0.528818    122.641620   \n",
            "std            0.215783      0.180537      0.243557     27.940743   \n",
            "min            0.000000      0.000000      0.000000      0.000000   \n",
            "25%            0.000013      0.093800      0.338000    102.196500   \n",
            "50%            0.000737      0.140000      0.529000    121.859000   \n",
            "75%            0.028375      0.278000      0.724750    139.228000   \n",
            "max            0.992000      1.000000      0.991000    238.895000   \n",
            "\n",
            "         Popularity  \n",
            "count  14418.000000  \n",
            "mean      25.394438  \n",
            "std       15.090860  \n",
            "min        0.000000  \n",
            "25%       14.000000  \n",
            "50%       23.000000  \n",
            "75%       34.000000  \n",
            "max       91.000000  \n"
          ]
        }
      ]
    },
    {
      "cell_type": "code",
      "source": [
        "df = df.drop(columns=['Album'])\n"
      ],
      "metadata": {
        "id": "At1emU19kWgw"
      },
      "execution_count": null,
      "outputs": []
    },
    {
      "cell_type": "code",
      "source": [
        "df_encoded = pd.get_dummies(df, columns=['Track', 'Artist', 'Duration'], drop_first=True )\n",
        "\n",
        "print(df_encoded)"
      ],
      "metadata": {
        "colab": {
          "base_uri": "https://localhost:8080/"
        },
        "id": "qnLSNdjeTrIy",
        "outputId": "b5e12695-b7aa-4745-86a8-07a1dc5a082e"
      },
      "execution_count": null,
      "outputs": [
        {
          "output_type": "stream",
          "name": "stdout",
          "text": [
            "       Year  Time_Signature  Danceability  Energy  Key  Loudness  Mode  \\\n",
            "0      1977               4         0.521   0.367    0   -13.866     1   \n",
            "1      1977               4         0.535   0.710    2   -12.287     1   \n",
            "2      1977               4         0.563   0.563    2   -10.781     1   \n",
            "3      1977               4         0.638   0.694   11   -10.206     0   \n",
            "4      1977               4         0.388   0.701    2    -9.984     1   \n",
            "...     ...             ...           ...     ...  ...       ...   ...   \n",
            "14413  2012               4         0.403   0.892    0    -1.900     0   \n",
            "14414  2012               4         0.521   0.872    2    -1.722     1   \n",
            "14415  2012               4         0.336   0.857    5    -1.715     0   \n",
            "14416  2012               4         0.633   0.972   11    -1.345     0   \n",
            "14417  2012               4         0.544   0.843   11    -0.239     0   \n",
            "\n",
            "       Speechiness  Acousticness  Instrumentalness  ...  Duration_9:46  \\\n",
            "0           0.0278      0.692000          0.000003  ...          False   \n",
            "1           0.0428      0.010000          0.023000  ...          False   \n",
            "2           0.0263      0.035700          0.001850  ...          False   \n",
            "3           0.0310      0.161000          0.000034  ...          False   \n",
            "4           0.0360      0.013000          0.042200  ...          False   \n",
            "...            ...           ...               ...  ...            ...   \n",
            "14413       0.0505      0.038600          0.000221  ...          False   \n",
            "14414       0.0338      0.000437          0.008590  ...          False   \n",
            "14415       0.1210      0.175000          0.000010  ...          False   \n",
            "14416       0.1240      0.039700          0.000003  ...          False   \n",
            "14417       0.0318      0.037900          0.000259  ...          False   \n",
            "\n",
            "       Duration_9:48  Duration_9:49  Duration_9:50  Duration_9:51  \\\n",
            "0              False          False          False          False   \n",
            "1              False          False          False          False   \n",
            "2              False          False          False          False   \n",
            "3              False          False          False          False   \n",
            "4              False          False          False          False   \n",
            "...              ...            ...            ...            ...   \n",
            "14413          False          False          False          False   \n",
            "14414          False          False          False          False   \n",
            "14415          False          False          False          False   \n",
            "14416          False          False          False          False   \n",
            "14417          False          False          False          False   \n",
            "\n",
            "       Duration_9:52  Duration_9:54  Duration_9:55  Duration_9:57  \\\n",
            "0              False          False          False          False   \n",
            "1              False          False          False          False   \n",
            "2              False          False          False          False   \n",
            "3              False          False          False          False   \n",
            "4              False          False          False          False   \n",
            "...              ...            ...            ...            ...   \n",
            "14413          False          False          False          False   \n",
            "14414          False          False          False          False   \n",
            "14415          False          False          False          False   \n",
            "14416          False          False          False          False   \n",
            "14417          False          False          False          False   \n",
            "\n",
            "       Duration_9:59  \n",
            "0              False  \n",
            "1              False  \n",
            "2              False  \n",
            "3              False  \n",
            "4              False  \n",
            "...              ...  \n",
            "14413          False  \n",
            "14414          False  \n",
            "14415          False  \n",
            "14416          False  \n",
            "14417          False  \n",
            "\n",
            "[14418 rows x 14344 columns]\n"
          ]
        }
      ]
    },
    {
      "cell_type": "code",
      "source": [
        "print(df_encoded.dtypes)\n"
      ],
      "metadata": {
        "colab": {
          "base_uri": "https://localhost:8080/"
        },
        "id": "9MdgBMFnYHRg",
        "outputId": "cca8bdc1-88c3-4f83-888a-30d0e7f27c82"
      },
      "execution_count": null,
      "outputs": [
        {
          "output_type": "stream",
          "name": "stdout",
          "text": [
            "Album              object\n",
            "Year                int64\n",
            "Time_Signature      int64\n",
            "Danceability      float64\n",
            "Energy            float64\n",
            "                   ...   \n",
            "Duration_9:52       int64\n",
            "Duration_9:54       int64\n",
            "Duration_9:55       int64\n",
            "Duration_9:57       int64\n",
            "Duration_9:59       int64\n",
            "Length: 14348, dtype: object\n"
          ]
        }
      ]
    },
    {
      "cell_type": "code",
      "source": [
        "from sklearn.preprocessing import TargetEncoder\n",
        "enc_auto = TargetEncoder(smooth=\"auto\")\n",
        "X_trans = enc_auto.fit_transform(X, y)\n"
      ],
      "metadata": {
        "id": "WTfJHrlUtj_A"
      },
      "execution_count": null,
      "outputs": []
    },
    {
      "cell_type": "code",
      "source": [
        "X = df_encoded.drop(columns=['Year'])  # Все столбцы, кроме целевой\n",
        "y = df_encoded['Year']  # Целевая переменная"
      ],
      "metadata": {
        "id": "w_ZNux3QXO09"
      },
      "execution_count": null,
      "outputs": []
    },
    {
      "cell_type": "code",
      "source": [
        "X_train, X_test, y_train, y_test = train_test_split(X, y, test_size=0.2, stratify=y, random_state=42)"
      ],
      "metadata": {
        "id": "GXK4mjdOYgkN"
      },
      "execution_count": null,
      "outputs": []
    },
    {
      "cell_type": "code",
      "source": [
        "print(y_train.value_counts())\n"
      ],
      "metadata": {
        "colab": {
          "base_uri": "https://localhost:8080/"
        },
        "id": "3EPNJIUqQEho",
        "outputId": "4fbb7146-c5bb-419d-bff8-f40664156e70"
      },
      "execution_count": null,
      "outputs": [
        {
          "output_type": "stream",
          "name": "stdout",
          "text": [
            "Year\n",
            "1974    395\n",
            "1976    387\n",
            "1975    383\n",
            "1983    370\n",
            "1981    370\n",
            "       ... \n",
            "2018     46\n",
            "1998     42\n",
            "2024     41\n",
            "1963     11\n",
            "1962     10\n",
            "Name: count, Length: 63, dtype: int64\n"
          ]
        }
      ]
    },
    {
      "cell_type": "code",
      "source": [
        "qda = QuadraticDiscriminantAnalysis()\n",
        "qda.fit(X_train, y_train)\n",
        "\n",
        "y_pred = qda.predict(X_test)\n",
        "accuracy = accuracy_score(y_test, y_pred)\n",
        "\n",
        "print(f\"Точность модели: {accuracy}\")"
      ],
      "metadata": {
        "colab": {
          "base_uri": "https://localhost:8080/"
        },
        "id": "cg2u14-vhTex",
        "outputId": "d25709a1-caa6-4ca8-80fc-ef1955486431"
      },
      "execution_count": null,
      "outputs": [
        {
          "output_type": "stream",
          "name": "stderr",
          "text": [
            "/usr/local/lib/python3.10/dist-packages/sklearn/discriminant_analysis.py:947: UserWarning: Variables are collinear\n",
            "  warnings.warn(\"Variables are collinear\")\n"
          ]
        },
        {
          "output_type": "stream",
          "name": "stdout",
          "text": [
            "Точность модели: 0.020804438280166437\n"
          ]
        }
      ]
    },
    {
      "cell_type": "code",
      "source": [
        "from sklearn import svm\n",
        "supp = svm.SVC()\n",
        "supp.fit(X_train, y_train)\n",
        "\n",
        "y_pred_2 = supp.predict(X_test)\n",
        "accuracy_2 = accuracy_score(y_test, y_pred_2)\n",
        "\n",
        "print(f\"Точность модели: {accuracy_2}\")"
      ],
      "metadata": {
        "colab": {
          "base_uri": "https://localhost:8080/"
        },
        "id": "07NTDnj3nkB0",
        "outputId": "7ace8515-b505-4ca0-f2d4-67bacadc6d18"
      },
      "execution_count": null,
      "outputs": [
        {
          "output_type": "stream",
          "name": "stdout",
          "text": [
            "Точность модели: 0.036754507628294034\n"
          ]
        }
      ]
    },
    {
      "cell_type": "code",
      "source": [
        "from sklearn.linear_model import LogisticRegression\n",
        "clf = LogisticRegression()\n",
        "clf.fit(X_train, y_train)\n",
        "y_pred3 = clf.predict(X_test)\n",
        "accuracy_3 = accuracy_score(y_test, y_pred3)\n",
        "print(f\"Точность модели: {accuracy_3}\")"
      ],
      "metadata": {
        "colab": {
          "base_uri": "https://localhost:8080/",
          "height": 1000
        },
        "id": "wlH5iyT2Rj0T",
        "outputId": "7942749f-5e0d-4060-b841-5872d53626ac"
      },
      "execution_count": null,
      "outputs": [
        {
          "output_type": "error",
          "ename": "KeyboardInterrupt",
          "evalue": "",
          "traceback": [
            "\u001b[0;31m---------------------------------------------------------------------------\u001b[0m",
            "\u001b[0;31mKeyboardInterrupt\u001b[0m                         Traceback (most recent call last)",
            "\u001b[0;32m<ipython-input-14-f62985f421ad>\u001b[0m in \u001b[0;36m<cell line: 3>\u001b[0;34m()\u001b[0m\n\u001b[1;32m      1\u001b[0m \u001b[0;32mfrom\u001b[0m \u001b[0msklearn\u001b[0m\u001b[0;34m.\u001b[0m\u001b[0mlinear_model\u001b[0m \u001b[0;32mimport\u001b[0m \u001b[0mLinearRegression\u001b[0m\u001b[0;34m\u001b[0m\u001b[0;34m\u001b[0m\u001b[0m\n\u001b[1;32m      2\u001b[0m \u001b[0mreg\u001b[0m \u001b[0;34m=\u001b[0m \u001b[0mLinearRegression\u001b[0m\u001b[0;34m(\u001b[0m\u001b[0;34m)\u001b[0m\u001b[0;34m\u001b[0m\u001b[0;34m\u001b[0m\u001b[0m\n\u001b[0;32m----> 3\u001b[0;31m \u001b[0mreg\u001b[0m\u001b[0;34m.\u001b[0m\u001b[0mfit\u001b[0m\u001b[0;34m(\u001b[0m\u001b[0mX_train\u001b[0m\u001b[0;34m,\u001b[0m \u001b[0my_train\u001b[0m\u001b[0;34m)\u001b[0m\u001b[0;34m\u001b[0m\u001b[0;34m\u001b[0m\u001b[0m\n\u001b[0m\u001b[1;32m      4\u001b[0m \u001b[0my_pred3\u001b[0m \u001b[0;34m=\u001b[0m \u001b[0mreg\u001b[0m\u001b[0;34m.\u001b[0m\u001b[0mpredict\u001b[0m\u001b[0;34m(\u001b[0m\u001b[0mX_test\u001b[0m\u001b[0;34m)\u001b[0m\u001b[0;34m\u001b[0m\u001b[0;34m\u001b[0m\u001b[0m\n\u001b[1;32m      5\u001b[0m \u001b[0maccuracy_3\u001b[0m \u001b[0;34m=\u001b[0m \u001b[0maccuracy_score\u001b[0m\u001b[0;34m(\u001b[0m\u001b[0my_test\u001b[0m\u001b[0;34m,\u001b[0m \u001b[0my_pred3\u001b[0m\u001b[0;34m)\u001b[0m\u001b[0;34m\u001b[0m\u001b[0;34m\u001b[0m\u001b[0m\n",
            "\u001b[0;32m/usr/local/lib/python3.10/dist-packages/sklearn/base.py\u001b[0m in \u001b[0;36mwrapper\u001b[0;34m(estimator, *args, **kwargs)\u001b[0m\n\u001b[1;32m   1471\u001b[0m                 )\n\u001b[1;32m   1472\u001b[0m             ):\n\u001b[0;32m-> 1473\u001b[0;31m                 \u001b[0;32mreturn\u001b[0m \u001b[0mfit_method\u001b[0m\u001b[0;34m(\u001b[0m\u001b[0mestimator\u001b[0m\u001b[0;34m,\u001b[0m \u001b[0;34m*\u001b[0m\u001b[0margs\u001b[0m\u001b[0;34m,\u001b[0m \u001b[0;34m**\u001b[0m\u001b[0mkwargs\u001b[0m\u001b[0;34m)\u001b[0m\u001b[0;34m\u001b[0m\u001b[0;34m\u001b[0m\u001b[0m\n\u001b[0m\u001b[1;32m   1474\u001b[0m \u001b[0;34m\u001b[0m\u001b[0m\n\u001b[1;32m   1475\u001b[0m         \u001b[0;32mreturn\u001b[0m \u001b[0mwrapper\u001b[0m\u001b[0;34m\u001b[0m\u001b[0;34m\u001b[0m\u001b[0m\n",
            "\u001b[0;32m/usr/local/lib/python3.10/dist-packages/sklearn/linear_model/_base.py\u001b[0m in \u001b[0;36mfit\u001b[0;34m(self, X, y, sample_weight)\u001b[0m\n\u001b[1;32m    685\u001b[0m                 \u001b[0mself\u001b[0m\u001b[0;34m.\u001b[0m\u001b[0mcoef_\u001b[0m \u001b[0;34m=\u001b[0m \u001b[0mnp\u001b[0m\u001b[0;34m.\u001b[0m\u001b[0mvstack\u001b[0m\u001b[0;34m(\u001b[0m\u001b[0;34m[\u001b[0m\u001b[0mout\u001b[0m\u001b[0;34m[\u001b[0m\u001b[0;36m0\u001b[0m\u001b[0;34m]\u001b[0m \u001b[0;32mfor\u001b[0m \u001b[0mout\u001b[0m \u001b[0;32min\u001b[0m \u001b[0mouts\u001b[0m\u001b[0;34m]\u001b[0m\u001b[0;34m)\u001b[0m\u001b[0;34m\u001b[0m\u001b[0;34m\u001b[0m\u001b[0m\n\u001b[1;32m    686\u001b[0m         \u001b[0;32melse\u001b[0m\u001b[0;34m:\u001b[0m\u001b[0;34m\u001b[0m\u001b[0;34m\u001b[0m\u001b[0m\n\u001b[0;32m--> 687\u001b[0;31m             \u001b[0mself\u001b[0m\u001b[0;34m.\u001b[0m\u001b[0mcoef_\u001b[0m\u001b[0;34m,\u001b[0m \u001b[0m_\u001b[0m\u001b[0;34m,\u001b[0m \u001b[0mself\u001b[0m\u001b[0;34m.\u001b[0m\u001b[0mrank_\u001b[0m\u001b[0;34m,\u001b[0m \u001b[0mself\u001b[0m\u001b[0;34m.\u001b[0m\u001b[0msingular_\u001b[0m \u001b[0;34m=\u001b[0m \u001b[0mlinalg\u001b[0m\u001b[0;34m.\u001b[0m\u001b[0mlstsq\u001b[0m\u001b[0;34m(\u001b[0m\u001b[0mX\u001b[0m\u001b[0;34m,\u001b[0m \u001b[0my\u001b[0m\u001b[0;34m)\u001b[0m\u001b[0;34m\u001b[0m\u001b[0;34m\u001b[0m\u001b[0m\n\u001b[0m\u001b[1;32m    688\u001b[0m             \u001b[0mself\u001b[0m\u001b[0;34m.\u001b[0m\u001b[0mcoef_\u001b[0m \u001b[0;34m=\u001b[0m \u001b[0mself\u001b[0m\u001b[0;34m.\u001b[0m\u001b[0mcoef_\u001b[0m\u001b[0;34m.\u001b[0m\u001b[0mT\u001b[0m\u001b[0;34m\u001b[0m\u001b[0;34m\u001b[0m\u001b[0m\n\u001b[1;32m    689\u001b[0m \u001b[0;34m\u001b[0m\u001b[0m\n",
            "\u001b[0;32m/usr/local/lib/python3.10/dist-packages/scipy/linalg/_basic.py\u001b[0m in \u001b[0;36mlstsq\u001b[0;34m(a, b, cond, overwrite_a, overwrite_b, check_finite, lapack_driver)\u001b[0m\n\u001b[1;32m   1268\u001b[0m             \u001b[0;32mif\u001b[0m \u001b[0mreal_data\u001b[0m\u001b[0;34m:\u001b[0m\u001b[0;34m\u001b[0m\u001b[0;34m\u001b[0m\u001b[0m\n\u001b[1;32m   1269\u001b[0m                 \u001b[0mlwork\u001b[0m\u001b[0;34m,\u001b[0m \u001b[0miwork\u001b[0m \u001b[0;34m=\u001b[0m \u001b[0m_compute_lwork\u001b[0m\u001b[0;34m(\u001b[0m\u001b[0mlapack_lwork\u001b[0m\u001b[0;34m,\u001b[0m \u001b[0mm\u001b[0m\u001b[0;34m,\u001b[0m \u001b[0mn\u001b[0m\u001b[0;34m,\u001b[0m \u001b[0mnrhs\u001b[0m\u001b[0;34m,\u001b[0m \u001b[0mcond\u001b[0m\u001b[0;34m)\u001b[0m\u001b[0;34m\u001b[0m\u001b[0;34m\u001b[0m\u001b[0m\n\u001b[0;32m-> 1270\u001b[0;31m                 x, s, rank, info = lapack_func(a1, b1, lwork,\n\u001b[0m\u001b[1;32m   1271\u001b[0m                                                iwork, cond, False, False)\n\u001b[1;32m   1272\u001b[0m             \u001b[0;32melse\u001b[0m\u001b[0;34m:\u001b[0m  \u001b[0;31m# complex data\u001b[0m\u001b[0;34m\u001b[0m\u001b[0;34m\u001b[0m\u001b[0m\n",
            "\u001b[0;31mKeyboardInterrupt\u001b[0m: "
          ]
        }
      ]
    },
    {
      "cell_type": "code",
      "source": [],
      "metadata": {
        "id": "uFJdgCVIWJXJ"
      },
      "execution_count": null,
      "outputs": []
    }
  ]
}